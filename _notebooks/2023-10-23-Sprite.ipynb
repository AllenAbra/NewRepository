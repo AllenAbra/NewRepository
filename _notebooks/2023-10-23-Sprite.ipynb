{
 "cells": [
  {
   "cell_type": "code",
   "execution_count": 2,
   "metadata": {
    "vscode": {
     "languageId": "html"
    }
   },
   "outputs": [
    {
     "data": {
      "application/javascript": "<body>\n    <div>\n        <canvas id=\"spriteContainer\"> <!-- Within the base div is a canvas. An HTML canvas is used only for graphics. It allows the user to access some basic functions related to the image created on the canvas (including animation) -->\n            <img id=\"dogSprite\" src=\"/teacher/images/dogSprites.png\">\n        </canvas>\n        <div id=\"controls\"> <!--basic radio buttons which can be used to check whether each individual animaiton works -->\n            <input type=\"radio\" name=\"animation\" id=\"idle\" checked>\n            <label for=\"idle\">Idle</label><br>\n            <input type=\"radio\" name=\"animation\" id=\"barking\">\n            <label for=\"barking\">Barking</label><br>\n            <input type=\"radio\" name=\"animation\" id=\"walking\">\n            <label for=\"walking\">Walking</label><br>\n        </div>\n    </div>\n</body>\n",
      "text/plain": [
       "<IPython.core.display.Javascript object>"
      ]
     },
     "metadata": {},
     "output_type": "display_data"
    }
   ],
   "source": [
    "%%js\n",
    "<body>\n",
    "    <div>\n",
    "        <canvas id=\"spriteContainer\"> <!-- Within the base div is a canvas. An HTML canvas is used only for graphics. It allows the user to access some basic functions related to the image created on the canvas (including animation) -->\n",
    "            <img id=\"dogSprite\" src=\"/teacher/images/dogSprites.png\">\n",
    "        </canvas>\n",
    "        <div id=\"controls\"> <!--basic radio buttons which can be used to check whether each individual animaiton works -->\n",
    "            <input type=\"radio\" name=\"animation\" id=\"idle\" checked>\n",
    "            <label for=\"idle\">Idle</label><br>\n",
    "            <input type=\"radio\" name=\"animation\" id=\"barking\">\n",
    "            <label for=\"barking\">Barking</label><br>\n",
    "            <input type=\"radio\" name=\"animation\" id=\"walking\">\n",
    "            <label for=\"walking\">Walking</label><br>\n",
    "        </div>\n",
    "    </div>\n",
    "</body>"
   ]
  }
 ],
 "metadata": {
  "kernelspec": {
   "display_name": "Python 3",
   "language": "python",
   "name": "python3"
  },
  "language_info": {
   "codemirror_mode": {
    "name": "ipython",
    "version": 3
   },
   "file_extension": ".py",
   "mimetype": "text/x-python",
   "name": "python",
   "nbconvert_exporter": "python",
   "pygments_lexer": "ipython3",
   "version": "3.11.4"
  }
 },
 "nbformat": 4,
 "nbformat_minor": 2
}
