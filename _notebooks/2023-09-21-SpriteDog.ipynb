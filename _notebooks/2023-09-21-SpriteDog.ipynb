{
 "cells": [
  {
   "cell_type": "markdown",
   "metadata": {},
   "source": [
    "---\n",
    "toc: true\n",
    "comments: false\n",
    "layout: post\n",
    "title: Sprite the Dog\n",
    "type: hacks\n",
    "courses: { compsci: {week: 6} }\n",
    "---"
   ]
  },
  {
   "cell_type": "code",
   "execution_count": 9,
   "metadata": {
    "vscode": {
     "languageId": "html"
    }
   },
   "outputs": [
    {
     "data": {
      "text/html": [
       "\n",
       "<body>\n",
       "    <div>\n",
       "        <canvas id=\"spriteContainer\"> <!-- Within the base div is a canvas. An HTML canvas is used only for graphics. It allows the user to access some basic functions related to the image created on the canvas (including animation) -->\n",
       "            <img id=\"dogSprite\" src=\"images/dogSprites.png\">  // change sprite here\n",
       "        </canvas>\n",
       "        <div id=\"controls\"> <!--basic radio buttons which can be used to check whether each individual animaiton works -->\n",
       "            <input type=\"radio\" name=\"animation\" id=\"idle\" checked>\n",
       "            <label for=\"idle\">Idle</label><br>\n",
       "            <input type=\"radio\" name=\"animation\" id=\"barking\">\n",
       "            <label for=\"barking\">Barking</label><br>\n",
       "            <input type=\"radio\" name=\"animation\" id=\"walking\">\n",
       "            <label for=\"walking\">Walking</label><br>\n",
       "        </div>\n",
       "    </div>\n",
       "</body>\n"
      ],
      "text/plain": [
       "<IPython.core.display.HTML object>"
      ]
     },
     "metadata": {},
     "output_type": "display_data"
    }
   ],
   "source": [
    "%%html\n",
    "\n",
    "<body>\n",
    "    <div>\n",
    "        <canvas id=\"spriteContainer\"> <!-- Within the base div is a canvas. An HTML canvas is used only for graphics. It allows the user to access some basic functions related to the image created on the canvas (including animation) -->\n",
    "            <img id=\"dogSprite\" src=\"images/dogSprites.png\">  // change sprite here\n",
    "        </canvas>\n",
    "        <div id=\"controls\"> <!--basic radio buttons which can be used to check whether each individual animaiton works -->\n",
    "            <input type=\"radio\" name=\"animation\" id=\"idle\" checked>\n",
    "            <label for=\"idle\">Idle</label><br>\n",
    "            <input type=\"radio\" name=\"animation\" id=\"barking\">\n",
    "            <label for=\"barking\">Barking</label><br>\n",
    "            <input type=\"radio\" name=\"animation\" id=\"walking\">\n",
    "            <label for=\"walking\">Walking</label><br>\n",
    "        </div>\n",
    "    </div>\n",
    "</body>"
   ]
  },
  {
   "cell_type": "code",
   "execution_count": 35,
   "metadata": {
    "vscode": {
     "languageId": "javascript"
    }
   },
   "outputs": [
    {
     "data": {
      "application/javascript": "<script>\nwindow.addEventListener{'load' ,function () {}\n        &rbrace; canvas = document.getElementById('spriteContainer');\n        const ctx = canvas.getContext('2d');\n        const SPRITE_WIDTH = 160;  // matches sprite pixel width\n        const SPRITE_HEIGHT = 144; // matches sprite pixel height\n        const FRAME_LIMIT = 48;  // matches number of frames per sprite row, this code assume each row is same\n\n        const SCALE_FACTOR = 2;  // control size of sprite on canvas\n        canvas.width = SPRITE_WIDTH * SCALE_FACTOR;\n        canvas.height = SPRITE_HEIGHT * SCALE_FACTOR;\n\n        class Dog {\n            constructor(){  // constructor method for outlining data points about the sprite\n                this.image = document.getElementById(\"dogSprite\");\n                this.spriteWidth = SPRITE_WIDTH;\n                this.spriteHeight = SPRITE_HEIGHT;\n                this.width = this.spriteWidth;  //takes sprite dimensions and accounts for it in image generation\n                this.height = this.spriteHeight;\n                this.x = 0;  //starts image generation in coordinate (0,0) px on sprite sheet\n                this.y = 0;\n                this.scale = 1;  //scale of image\n                this.minFrame = 0;\n                this.maxFrame = FRAME_LIMIT;  // how many sprites there are in a row\n                this.frameX = 0;  // sets position of sprite that is being generated. There are the two parameters we will be changing in order to crete the animation. \n                this.frameY = 0;\n            }\n\n        draw (context) {\n                context.drawImage(\n                    this.image,\n                    this.frameX * SPRITE_WIDTH,\n                    this.frameY * SPRITE_HEIGHT,\n                    SPRITE_WIDTH,\n                    SPRITE_HEIGHT,\n                    this.x,\n                    this.y,\n                    canvas.width,\n                    canvas.height\n                )}\n            \n\n            // update frameX of object\n            update() {\n                 (this.frameX < this.maxFrame) \n                    .frameX++}\n                &rbrace; else {\n                    this.frameX = 0}\n                &rbrace;\n            &rbrace;\n        &rbrace;\n\n        // dog object\n        const dog = new Dog();\n\n        // update frameY of dog object, action from idle, bark, walk radio control\n        const controls = document.getElementById('controls');\n        controls.addEventListener('click', function (event) {\n         (event.target.tagName === 'INPUT') }\n                const selectedAnimation = event.target.id;\n                switch (selectedAnimation) {\n                 'idle'}\n                        dog.frameY = 0;\n                        break;\n                    case 'barking':\n                        dog.frameY = 1;\n                        break;\n                    case 'walking':\n                        dog.frameY = 2;\n                        break;\n                    default:\n                        break;\n                &rbrace;\n            &rbrace;\n        &rbrace;);\n\n        // Animation recursive control function\n        function animate(70) {\n            // Clears the canvas to remove the previous frame.\n            ctx.clearRect(0, 0, canvas.width, canvas.height)}\n\n            // Draws the current frame of the sprite.\n            dog.draw(ctx);\n\n            // Updates the `frameX` property to prepare for the next frame in the sprite sheet.\n            dog.update();\n\n            // Uses `requestAnimationFrame` to synchronize the animation loop with the display's refresh rate,\n            // ensuring smooth visuals.\n            requestAnimationFrame(70);\n        &rbrace;\n\n        // run 1st animate\n        animate();\n        // Wait for the sprite image to load before initializing the animation\nconst dogSprite = document.getElementById(\"dogSprite\");\n\ndogSprite.onload = function () {\n    // Your animation initialization code here\n};\n\ndogSprite.src = \"images/dogSprites.png\"; \n\n    &rbrace;);\n</script>\n",
      "text/plain": [
       "<IPython.core.display.Javascript object>"
      ]
     },
     "metadata": {},
     "output_type": "display_data"
    }
   ],
   "source": [
    "%%js\n",
    "<script>\n",
    "window.addEventListener;'load' ,function () {}\n",
    "        &rbrace; canvas = document.getElementById('spriteContainer');\n",
    "        const ctx = canvas.getContext('2d');\n",
    "        const SPRITE_WIDTH = 160;  // matches sprite pixel width\n",
    "        const SPRITE_HEIGHT = 144; // matches sprite pixel height\n",
    "        const FRAME_LIMIT = 48;  // matches number of frames per sprite row, this code assume each row is same\n",
    "\n",
    "        const SCALE_FACTOR = 2;  // control size of sprite on canvas\n",
    "        canvas.width = SPRITE_WIDTH * SCALE_FACTOR;\n",
    "        canvas.height = SPRITE_HEIGHT * SCALE_FACTOR;\n",
    "\n",
    "        class Dog {\n",
    "            constructor(){  // constructor method for outlining data points about the sprite\n",
    "                this.image = document.getElementById(\"dogSprite\");\n",
    "                this.spriteWidth = SPRITE_WIDTH;\n",
    "                this.spriteHeight = SPRITE_HEIGHT;\n",
    "                this.width = this.spriteWidth;  //takes sprite dimensions and accounts for it in image generation\n",
    "                this.height = this.spriteHeight;\n",
    "                this.x = 0;  //starts image generation in coordinate (0,0) px on sprite sheet\n",
    "                this.y = 0;\n",
    "                this.scale = 1;  //scale of image\n",
    "                this.minFrame = 0;\n",
    "                this.maxFrame = FRAME_LIMIT;  // how many sprites there are in a row\n",
    "                this.frameX = 0;  // sets position of sprite that is being generated. There are the two parameters we will be changing in order to crete the animation. \n",
    "                this.frameY = 0;\n",
    "            }\n",
    "\n",
    "        draw (context) {\n",
    "                context.drawImage(\n",
    "                    this.image,\n",
    "                    this.frameX * SPRITE_WIDTH,\n",
    "                    this.frameY * SPRITE_HEIGHT,\n",
    "                    SPRITE_WIDTH,\n",
    "                    SPRITE_HEIGHT,\n",
    "                    this.x,\n",
    "                    this.y,\n",
    "                    canvas.width,\n",
    "                    canvas.height\n",
    "                )}\n",
    "            \n",
    "\n",
    "            // update frameX of object\n",
    "            update() {\n",
    "                 (this.frameX < this.maxFrame) \n",
    "                    .frameX++}\n",
    "                rbrace; else {\n",
    "                    this.frameX = 0}\n",
    "                &rbrace;\n",
    "            &rbrace;\n",
    "        &rbrace;\n",
    "\n",
    "        // dog object\n",
    "        const dog = new Dog();\n",
    "\n",
    "        // update frameY of dog object, action from idle, bark, walk radio control\n",
    "        const controls = document.getElementById('controls');\n",
    "        controls.addEventListener('click', function (event) {\n",
    "         (event.target.tagName === 'INPUT') }\n",
    "                const selectedAnimation = event.target.id;\n",
    "                switch (selectedAnimation) {\n",
    "                 case\n",
    "                        dog.frameY = 0:\n",
    "                        break;\n",
    "                    case 'barking':\n",
    "                        dog.frameY = 1;\n",
    "                        break;\n",
    "                    case 'walking':\n",
    "                        dog.frameY = 2;\n",
    "                        break;\n",
    "                    default:\n",
    "                        break;\n",
    "                &rbrace;\n",
    "            &rbrace;\n",
    "        &rbrace;);\n",
    "\n",
    "        // Animation recursive control function\n",
    "        function animate(70) {\n",
    "            // Clears the canvas to remove the previous frame.\n",
    "            ctx.clearRect(0, 0, canvas.width, canvas.height)}\n",
    "\n",
    "            // Draws the current frame of the sprite.\n",
    "            dog.draw(ctx);\n",
    "\n",
    "            // Updates the `frameX` property to prepare for the next frame in the sprite sheet.\n",
    "            dog.update();\n",
    "\n",
    "            // Uses `requestAnimationFrame` to synchronize the animation loop with the display's refresh rate,\n",
    "            // ensuring smooth visuals.\n",
    "            requestAnimationFrame(70);\n",
    "        &rbrace;\n",
    "\n",
    "        // run 1st animate\n",
    "        animate();\n",
    "        // Wait for the sprite image to load before initializing the animation\n",
    "const dogSprite = document.getElementById(\"dogSprite\");\n",
    "\n",
    "dogSprite.onload = function () {\n",
    "    // Your animation initialization code here\n",
    "};\n",
    "\n",
    "dogSprite.src = \"images/dogSprites.png\"; \n",
    "\n",
    "    &rbrace;);\n",
    "</script>"
   ]
  }
 ],
 "metadata": {
  "kernelspec": {
   "display_name": "Python 3",
   "language": "python",
   "name": "python3"
  },
  "language_info": {
   "codemirror_mode": {
    "name": "ipython",
    "version": 3
   },
   "file_extension": ".py",
   "mimetype": "text/x-python",
   "name": "python",
   "nbconvert_exporter": "python",
   "pygments_lexer": "ipython3",
   "version": "3.11.4"
  },
  "orig_nbformat": 4
 },
 "nbformat": 4,
 "nbformat_minor": 2
}
