{
 "cells": [
  {
   "cell_type": "markdown",
   "metadata": {},
   "source": [
    "---\n",
    "toc: false\n",
    "hide: true\n",
    "layout: post\n",
    "title: JS Mario 3-Tube\n",
    "description: A lesson designed to help you create your own tube for your game\n",
    "courses: { compsci: { week: 5 } }\n",
    "type: ccc\n",
    "author: Nicholas Ramos and Samaya Sankuratri\n",
    "---\n"
   ]
  },
  {
   "cell_type": "markdown",
   "metadata": {},
   "source": [
    "{% include mario_nav.html %}\n"
   ]
  },
  {
   "cell_type": "markdown",
   "metadata": {},
   "source": [
    "## Specific Hack\n",
    "- Add flag poles to tubes (to win)\n",
    "\n",
    "## Open Ended Hacks\n",
    "- Once the player jumps into the tube create a win animation"
   ]
  }
 ],
 "metadata": {
  "kernelspec": {
   "display_name": "Python 3 (ipykernel)",
   "language": "python",
   "name": "python3"
  },
  "language_info": {
   "codemirror_mode": {
    "name": "ipython",
    "version": 3
   },
   "file_extension": ".py",
   "mimetype": "text/x-python",
   "name": "python",
   "nbconvert_exporter": "python",
   "pygments_lexer": "ipython3",
   "version": "3.11.4"
  },
  "orig_nbformat": 4
 },
 "nbformat": 4,
 "nbformat_minor": 2
}
