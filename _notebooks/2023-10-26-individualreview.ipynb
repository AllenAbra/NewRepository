{
 "cells": [
  {
   "cell_type": "markdown",
   "metadata": {},
   "source": [
    "---\n",
    "toc: false\n",
    "hide: true\n",
    "layout: post\n",
    "title: Individual Review\n",
    "description: A lesson designed to help you create your own player for your game\n",
    "courses: { compsci: { week: 7 } }\n",
    "type: blogs\n",
    "---"
   ]
  },
  {
   "cell_type": "markdown",
   "metadata": {},
   "source": [
    "# Review: Recap of what I learned this trimester\n",
    "\n"
   ]
  }
 ],
 "metadata": {
  "language_info": {
   "name": "python"
  }
 },
 "nbformat": 4,
 "nbformat_minor": 2
}
