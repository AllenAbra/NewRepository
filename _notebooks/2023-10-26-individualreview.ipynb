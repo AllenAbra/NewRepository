{
 "cells": [
  {
   "cell_type": "markdown",
   "metadata": {},
   "source": [
    "---\n",
    "toc: false\n",
    "layout: post\n",
    "title: Individual Review\n",
    "courses: { compsci: { week: 7 } }\n",
    "type: blogs\n",
    "---"
   ]
  },
  {
   "cell_type": "code",
   "execution_count": 1,
   "metadata": {},
   "outputs": [],
   "source": [
    "# Review: Recap of what I learned this trimester\n",
    "# 1. Issue Recap\n",
    "# 2. Overview of Game Control\n",
    "# 3. Game Environment\n",
    "# 4. Game Objects\n",
    "# 5. Migrating to OOP"
   ]
  },
  {
   "cell_type": "markdown",
   "metadata": {},
   "source": [
    "# Chat GPT\n",
    "1. https://chat.openai.com/share/3ba243d2-ff2a-405f-a494-d5ee5b69bd96\n",
    "2. https://chat.openai.com/share/c41a75f8-94de-4378-b330-9dc2734d5181 \n",
    "3. https://chat.openai.com/share/60754a98-efd1-46ee-a8fc-65c48ca0fe5f\n",
    "4. https://chat.openai.com/share/bc5a1edc-326b-4e1c-81ac-cc02d579d285 \n",
    "5. https://chat.openai.com/share/ec055345-4b91-4be8-a316-de3b9d99fe25 \n",
    "6. https://chat.openai.com/share/3970b466-176a-42b4-8ec8-903ec7b8af9a"
   ]
  },
  {
   "cell_type": "markdown",
   "metadata": {},
   "source": [
    "# Game Objects"
   ]
  },
  {
   "cell_type": "code",
   "execution_count": 20,
   "metadata": {
    "vscode": {
     "languageId": "html"
    }
   },
   "outputs": [
    {
     "data": {
      "text/html": [
       "<html>\n",
       "    <head>\n",
       "        <style>\n",
       "            #output {\n",
       "                background-color: #3c74d576;\n",
       "                padding: 10px;\n",
       "                border: 3px solid #ccc;\n",
       "            }\n",
       "        </style>\n",
       "    </head>\n",
       "    <body>\n",
       "        <p id=\"data\" hidden>\n",
       "        </p>\n",
       "        <div id=\"output\">\n",
       "            Hello!\n",
       "        </div>\n",
       "    </body>\n",
       "</html>\n"
      ],
      "text/plain": [
       "<IPython.core.display.HTML object>"
      ]
     },
     "metadata": {},
     "output_type": "display_data"
    }
   ],
   "source": [
    "%%html\n",
    "<html>\n",
    "    <head>\n",
    "        <style>\n",
    "            #output {\n",
    "                background-color: #3c74d576;\n",
    "                padding: 10px;\n",
    "                border: 3px solid #ccc;\n",
    "            }\n",
    "        </style>\n",
    "    </head>\n",
    "    <body>\n",
    "        <p id=\"data\" hidden>\n",
    "        </p>\n",
    "        <div id=\"output\">\n",
    "            Hello!\n",
    "        </div>\n",
    "    </body>\n",
    "</html>"
   ]
  },
  {
   "cell_type": "code",
   "execution_count": 21,
   "metadata": {
    "vscode": {
     "languageId": "javascript"
    }
   },
   "outputs": [
    {
     "ename": "SyntaxError",
     "evalue": "invalid syntax (2119759141.py, line 3)",
     "output_type": "error",
     "traceback": [
      "\u001b[0;36m  Cell \u001b[0;32mIn[21], line 3\u001b[0;36m\u001b[0m\n\u001b[0;31m    *(class:, Person)\u001b[0m\n\u001b[0m      ^\u001b[0m\n\u001b[0;31mSyntaxError\u001b[0m\u001b[0;31m:\u001b[0m invalid syntax\n"
     ]
    }
   ],
   "source": [
    "\n",
    "console.log(\"Person objects\");\n",
    "\n",
    "/* class: Person\n",
    " * Description: A collection of Person data\n",
    "*/\n",
    "class Person {\n",
    "  /* method: constructor\n",
    "   * parameters: name, ghID - GitHub ID, classOf - Graduation Class \n",
    "   * description: returns object when \"new Person()\" is called with matching parameters\n",
    "   * assignment: this.name, this.ghID, ... are properties retained in the returned object\n",
    "   * default: role uses a default property, it is set to \"Student\"\n",
    "  */\n",
    "  constructor(name, ghID, classOf, role=\"Student\") {\n",
    "    this.name = name;\n",
    "    this.ghID = ghID;\n",
    "    this.classOf = classOf;\n",
    "    this.role = role;\n",
    "  }\n",
    "\n",
    "  setRole(role) {\n",
    "    this.role = role;\n",
    "  }\n",
    " \n",
    "  getJSON() {\n",
    "    const obj = {type: typeof this, name: this.name, ghID: this.ghID, classOf: this.classOf, role: this.role};\n",
    "    const json = JSON.stringify(obj);\n",
    "    return json;\n",
    "  }\n",
    "  \n",
    "  logIt() {\n",
    "    //Person Object\n",
    "    console.info(this);\n",
    "       \n",
    "    // HTML output\n",
    "    document.getElementById(\"output\").textContent = this.getJSON();\n",
    "\n",
    "    //Log to Jupter\n",
    "    element.append(this.role + \" object in JSON: \");\n",
    "    element.append(this.getJSON());  \n",
    "    element.append(\" \");\n",
    "\n",
    "  }\n",
    "    \n",
    "}\n",
    "\n",
    "// make a new Person Object\n",
    "const teacher = new Person(\"Mr M\", \"jm1021\", 1977); // object type is easy to work with in JavaScript\n",
    "// update role to Teacher\n",
    "var role = \"Teacher\";\n",
    "teacher.setRole(role); // set the role\n",
    "teacher.logIt();  // log to console\n",
    "\n",
    "// make a new Person Object\n",
    "const student = new Person(\"Allen\", \"AllenAbra\", 2025); // object type is easy to work with in JavaScript\n",
    "student.logIt(); // log to console"
   ]
  },
  {
   "cell_type": "markdown",
   "metadata": {},
   "source": [
    "# Class Animation"
   ]
  },
  {
   "cell_type": "code",
   "execution_count": 2,
   "metadata": {
    "vscode": {
     "languageId": "html"
    }
   },
   "outputs": [
    {
     "ename": "SyntaxError",
     "evalue": "invalid syntax (3363425323.py, line 1)",
     "output_type": "error",
     "traceback": [
      "\u001b[0;36m  Cell \u001b[0;32mIn[2], line 1\u001b[0;36m\u001b[0m\n\u001b[0;31m    <img src=\"images/class.gif\" width=\"700\" height=\"700\" alt=\"class\"></img>\u001b[0m\n\u001b[0m    ^\u001b[0m\n\u001b[0;31mSyntaxError\u001b[0m\u001b[0;31m:\u001b[0m invalid syntax\n"
     ]
    }
   ],
   "source": [
    "<img src=\"images/class.gif\" width=\"700\" height=\"700\" alt=\"class\"></img>"
   ]
  },
  {
   "cell_type": "markdown",
   "metadata": {},
   "source": [
    "# Using datatypes"
   ]
  },
  {
   "cell_type": "code",
   "execution_count": 1,
   "metadata": {
    "vscode": {
     "languageId": "javascript"
    }
   },
   "outputs": [
    {
     "data": {
      "text/html": [
       "console.log(\"Numbers info\")\n",
       "\n",
       "// assign numbers to varialbes\n",
       "console.log(\"variable: num1\")\n",
       "var num1 = 9\n",
       "console.log(num1)\n",
       "console.log(\"variable: num2\")\n",
       "var num2 = 6\n",
       "console.log(num2)\n",
       "\n",
       "\n",
       "// simple operations with numbers\n",
       "console.log(\"Operations\")\n",
       "console.log(\"subtract: num1 - num2\")\n",
       "console.log(num1 - num2)\n",
       "console.log(\"add: num1 + num2\")\n",
       "console.log(num1 + num2)\n",
       "console.log(\"divide: num1 / num2\")\n",
       "console.log(num1 / num2)\n",
       "console.log(\"multiply: num1 * num2\")\n",
       "console.log(num1 * num2)\n",
       "console.log(\"remainder (modulo): num1 % num2\")\n",
       "console.log(num1 % num2)\n"
      ],
      "text/plain": [
       "<IPython.core.display.HTML object>"
      ]
     },
     "metadata": {},
     "output_type": "display_data"
    }
   ],
   "source": [
    "%%html\n",
    "console.log(\"Numbers info\")\n",
    "\n",
    "// assign numbers to varialbes\n",
    "console.log(\"variable: num1\")\n",
    "var num1 = 9\n",
    "console.log(num1)\n",
    "console.log(\"variable: num2\")\n",
    "var num2 = 6\n",
    "console.log(num2)\n",
    "\n",
    "\n",
    "// simple operations with numbers\n",
    "console.log(\"Operations\")\n",
    "console.log(\"subtract: num1 - num2\")\n",
    "console.log(num1 - num2)\n",
    "console.log(\"add: num1 + num2\")\n",
    "console.log(num1 + num2)\n",
    "console.log(\"divide: num1 / num2\")\n",
    "console.log(num1 / num2)\n",
    "console.log(\"multiply: num1 * num2\")\n",
    "console.log(num1 * num2)\n",
    "console.log(\"remainder (modulo): num1 % num2\")\n",
    "console.log(num1 % num2)"
   ]
  }
 ],
 "metadata": {
  "kernelspec": {
   "display_name": "Python 3",
   "language": "python",
   "name": "python3"
  },
  "language_info": {
   "codemirror_mode": {
    "name": "ipython",
    "version": 3
   },
   "file_extension": ".py",
   "mimetype": "text/x-python",
   "name": "python",
   "nbconvert_exporter": "python",
   "pygments_lexer": "ipython3",
   "version": "3.11.4"
  }
 },
 "nbformat": 4,
 "nbformat_minor": 2
}
