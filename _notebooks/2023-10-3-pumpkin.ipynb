{
 "cells": [
  {
   "cell_type": "markdown",
   "metadata": {},
   "source": [
    "---\n",
    "toc: true\n",
    "comments: false\n",
    "layout: post\n",
    "title: Pumpkin Sprite\n",
    "type: hacks\n",
    "courses: { compsci: {week: 7} }\n",
    "---"
   ]
  },
  {
   "cell_type": "code",
   "execution_count": 17,
   "metadata": {
    "vscode": {
     "languageId": "html"
    }
   },
   "outputs": [
    {
     "data": {
      "application/javascript": "<body>\n    <div>\n        <canvas id=\"spriteContainer\"> <!-- Within the base div is a canvas. An HTML canvas is used only for graphics. It allows the user to access some basic functions related to the image created on the canvas (including animation) -->\n            <img id=\"pumpkin\" src=\"/Users/alyssa-allenabrams/vscode/NewRepository/NewRepository/images/png\">\n        </canvas>\n        <div id=\"controls\"> <!--basic radio buttons which can be used to check whether each individual animaiton works -->\n            <input type=\"radio\" name=\"animation\" id=\"idle\" checked>\n            <label for=\"idle\">Idle</label><br>\n            <input type=\"radio\" name=\"animation\" id=\"running\">\n            <label for=\"running\">Running</label><br>\n            <input type=\"radio\" name=\"animation\" id=\"walking\">\n            <label for=\"walking\">Walking</label><br>\n        </div>\n    </div>\n</body>\n",
      "text/plain": [
       "<IPython.core.display.Javascript object>"
      ]
     },
     "metadata": {},
     "output_type": "display_data"
    }
   ],
   "source": [
    "%%js\n",
    "<body>\n",
    "    <div>\n",
    "        <canvas id=\"spriteContainer\"> <!-- Within the base div is a canvas. An HTML canvas is used only for graphics. It allows the user to access some basic functions related to the image created on the canvas (including animation) -->\n",
    "            <img id=\"pumpkin\" src=\"/Users/alyssa-allenabrams/vscode/NewRepository/NewRepository/images/png\">\n",
    "        </canvas>\n",
    "        <div id=\"controls\"> <!--basic radio buttons which can be used to check whether each individual animaiton works -->\n",
    "            <input type=\"radio\" name=\"animation\" id=\"idle\" checked>\n",
    "            <label for=\"idle\">Idle</label><br>\n",
    "            <input type=\"radio\" name=\"animation\" id=\"running\">\n",
    "            <label for=\"running\">Running</label><br>\n",
    "            <input type=\"radio\" name=\"animation\" id=\"walking\">\n",
    "            <label for=\"walking\">Walking</label><br>\n",
    "        </div>\n",
    "    </div>\n",
    "</body>\n"
   ]
  },
  {
   "cell_type": "code",
   "execution_count": 18,
   "metadata": {
    "vscode": {
     "languageId": "javascript"
    }
   },
   "outputs": [
    {
     "ename": "SyntaxError",
     "evalue": "invalid syntax (2134329674.py, line 1)",
     "output_type": "error",
     "traceback": [
      "\u001b[0;36m  Cell \u001b[0;32mIn[18], line 1\u001b[0;36m\u001b[0m\n\u001b[0;31m    <script>\u001b[0m\n\u001b[0m    ^\u001b[0m\n\u001b[0;31mSyntaxError\u001b[0m\u001b[0;31m:\u001b[0m invalid syntax\n"
     ]
    }
   ],
   "source": [
    "<script>\n",
    "    window.addEventListener('load', function () {\n",
    "        const canvas = document.getElementById('spriteContainer');\n",
    "        const ctx = canvas.getContext('2d');\n",
    "        const SPRITE_WIDTH = 160;\n",
    "        const SPRITE_HEIGHT = 144;\n",
    "        const SCALE_FACTOR = 2;\n",
    "        const FRAME_LIMIT = 48;\n",
    "        const FRAME_RATE = 15;\n",
    "\n",
    "        canvas.width = SPRITE_WIDTH * SCALE_FACTOR;\n",
    "        canvas.height = SPRITE_HEIGHT * SCALE_FACTOR;\n",
    "\n",
    "        class Pumpkin {\n",
    "            constructor() {\n",
    "                this.image = document.getElementById(\"pumpkin\");\n",
    "                this.spriteWidth = SPRITE_WIDTH;\n",
    "                this.spriteHeight = SPRITE_HEIGHT;\n",
    "                this.width = this.spriteWidth;\n",
    "                this.height = this.spriteHeight;\n",
    "                this.x = 0;\n",
    "                this.y = 0;\n",
    "                this.scale = 1;\n",
    "                this.minFrame = 0;\n",
    "                this.maxFrame = FRAME_LIMIT;\n",
    "                this.frameX = 0;\n",
    "                this.frameY = 0;\n",
    "            &rbrace;\n",
    "\n",
    "            draw(context) {\n",
    "                context.drawImage(\n",
    "                    this.image,\n",
    "                    this.frameX * this.spriteWidth,\n",
    "                    this.frameY * this.spriteHeight,\n",
    "                    this.spriteWidth,\n",
    "                    this.spriteHeight,\n",
    "                    this.x,\n",
    "                    this.y,\n",
    "                    this.width * this.scale,\n",
    "                    this.height * this.scale\n",
    "                );\n",
    "            &rbrace;\n",
    "\n",
    "            update() {\n",
    "                if (this.frameX < this.maxFrame) {\n",
    "                    this.frameX++;\n",
    "                &rbrace; else {\n",
    "                    this.frameX = 0;\n",
    "                &rbrace;\n",
    "            &rbrace;\n",
    "        &rbrace;\n",
    "\n",
    "        const pumpkin = new Pumpkin();\n",
    "\n",
    "        // Add event listener to the parent container for event delegation\n",
    "        const controls = document.getElementById('controls');\n",
    "        controls.addEventListener('click', function (event) {\n",
    "            if (event.target.tagName === 'INPUT') {\n",
    "                const selectedAnimation = event.target.id;\n",
    "                switch (selectedAnimation) {\n",
    "                    case 'idle':\n",
    "                        pumpkin.frameY = 0;\n",
    "                        break;\n",
    "                    case 'running':\n",
    "                        pumpkin.frameY = 1;\n",
    "                        break;\n",
    "                    case 'walking':\n",
    "                        pumpkin.frameY = 2;\n",
    "                        break;\n",
    "                    default:\n",
    "                        break;\n",
    "                &rbrace;\n",
    "            &rbrace;\n",
    "        &rbrace;);\n",
    "\n",
    "        function animate() {\n",
    "            ctx.clearRect(0, 0, canvas.width, canvas.height);\n",
    "            pumpkin.draw(ctx);\n",
    "            pumpkin.update();\n",
    "            requestAnimationFrame(animate);\n",
    "        &rbrace;\n",
    "\n",
    "        animate();\n",
    "    &rbrace;);\n",
    "</script>"
   ]
  },
  {
   "cell_type": "markdown",
   "metadata": {},
   "source": [
    "<!DOCTYPE html>\n",
    "<html>\n",
    "<head>\n",
    "    <meta charset=\"UTF-8\">\n",
    "    <meta name=\"viewport\" content=\"width=device-width, initial-scale=1.0\">\n",
    "    <title>Animation Example</title>\n",
    "</head>\n",
    "<body>\n",
    "    <div>\n",
    "        <canvas id=\"spriteContainer\"> <!-- Within the base div is a canvas. An HTML canvas is used only for graphics. It allows the user to access some basic functions related to the image created on the canvas (including animation) -->\n",
    "            <img id=\"pumpkin\" src=\"/Users/alyssa-allenabrams/vscode/NewRepository/NewRepository/images/png\">\n",
    "        </canvas>\n",
    "        <div id=\"controls\"> <!--basic radio buttons which can be used to check whether each individual animaiton works -->\n",
    "            <input type=\"radio\" name=\"animation\" id=\"idle\" checked>\n",
    "            <label for=\"idle\">Idle</label><br>\n",
    "            <input type=\"radio\" name=\"animation\" id=\"running\">\n",
    "            <label for=\"running\">running</label><br>\n",
    "            <input type=\"radio\" name=\"animation\" id=\"walking\">\n",
    "            <label for=\"walking\">Walking</label><br>\n",
    "        </div>\n",
    "    </div>\n",
    "</body>\n",
    "</html>\n",
    "\n"
   ]
  },
  {
   "cell_type": "code",
   "execution_count": 12,
   "metadata": {},
   "outputs": [
    {
     "data": {
      "application/javascript": "// Your JavaScript code goes here\nwindow.addEventListener('load', function () {\n    const canvas = document.getElementById('spriteContainer');\n    const ctx = canvas.getContext('2d');\n    // ... (rest of your JavaScript code)\n});\n",
      "text/plain": [
       "<IPython.core.display.Javascript object>"
      ]
     },
     "metadata": {},
     "output_type": "display_data"
    }
   ],
   "source": [
    "%%js\n",
    "// Your JavaScript code goes here\n",
    "window.addEventListener('load', function () {\n",
    "    const canvas = document.getElementById('spriteContainer');\n",
    "    const ctx = canvas.getContext('2d');\n",
    "    // ... (rest of your JavaScript code)\n",
    "});"
   ]
  }
 ],
 "metadata": {
  "kernelspec": {
   "display_name": "Python 3",
   "language": "python",
   "name": "python3"
  },
  "language_info": {
   "codemirror_mode": {
    "name": "ipython",
    "version": 3
   },
   "file_extension": ".py",
   "mimetype": "text/x-python",
   "name": "python",
   "nbconvert_exporter": "python",
   "pygments_lexer": "ipython3",
   "version": "3.11.4"
  },
  "orig_nbformat": 4
 },
 "nbformat": 4,
 "nbformat_minor": 2
}
