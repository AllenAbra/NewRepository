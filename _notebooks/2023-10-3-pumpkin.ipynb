{
 "cells": [
  {
   "cell_type": "markdown",
   "metadata": {},
   "source": [
    "---\n",
    "toc: true\n",
    "comments: false\n",
    "layout: post\n",
    "title: Pumpkin Sprite\n",
    "type: hacks\n",
    "courses: { compsci: {week: 7} }\n",
    "---"
   ]
  },
  {
   "cell_type": "code",
   "execution_count": 6,
   "metadata": {
    "vscode": {
     "languageId": "html"
    }
   },
   "outputs": [
    {
     "data": {
      "application/javascript": "<body>\n    <div>\n        <canvas id=\"spriteContainer\"> <!-- Within the base div is a canvas. An HTML canvas is used only for graphics. It allows the user to access some basic functions related to the image created on the canvas (including animation) -->\n            <img id=\"pumpkin\" src=\"/Users/alyssa-allenabrams/vscode/NewRepository/NewRepository/images/png\">\n        </canvas>\n        <div id=\"controls\"> <!--basic radio buttons which can be used to check whether each individual animaiton works -->\n            <input type=\"radio\" name=\"animation\" id=\"idle\" checked>\n            <label for=\"idle\">Idle</label><br>\n            <input type=\"radio\" name=\"animation\" id=\"running\">\n            <label for=\"running\">Running</label><br>\n            <input type=\"radio\" name=\"animation\" id=\"walking\">\n            <label for=\"walking\">Walking</label><br>\n        </div>\n    </div>\n</body>\n",
      "text/plain": [
       "<IPython.core.display.Javascript object>"
      ]
     },
     "metadata": {},
     "output_type": "display_data"
    }
   ],
   "source": [
    "%%js\n",
    "<body>\n",
    "    <div>\n",
    "        <canvas id=\"spriteContainer\"> <!-- Within the base div is a canvas. An HTML canvas is used only for graphics. It allows the user to access some basic functions related to the image created on the canvas (including animation) -->\n",
    "            <img id=\"pumpkin\" src=\"/Users/alyssa-allenabrams/vscode/NewRepository/NewRepository/images/png\">\n",
    "        </canvas>\n",
    "        <div id=\"controls\"> <!--basic radio buttons which can be used to check whether each individual animaiton works -->\n",
    "            <input type=\"radio\" name=\"animation\" id=\"idle\" checked>\n",
    "            <label for=\"idle\">Idle</label><br>\n",
    "            <input type=\"radio\" name=\"animation\" id=\"running\">\n",
    "            <label for=\"running\">Running</label><br>\n",
    "            <input type=\"radio\" name=\"animation\" id=\"walking\">\n",
    "            <label for=\"walking\">Walking</label><br>\n",
    "        </div>\n",
    "    </div>\n",
    "</body>\n"
   ]
  },
  {
   "cell_type": "markdown",
   "metadata": {},
   "source": [
    "<!DOCTYPE html>\n",
    "<html>\n",
    "<head>\n",
    "    <meta charset=\"UTF-8\">\n",
    "    <meta name=\"viewport\" content=\"width=device-width, initial-scale=1.0\">\n",
    "    <title>Animation Example</title>\n",
    "</head>\n",
    "<body>\n",
    "    <div>\n",
    "        <canvas id=\"spriteContainer\"> <!-- Within the base div is a canvas. An HTML canvas is used only for graphics. It allows the user to access some basic functions related to the image created on the canvas (including animation) -->\n",
    "            <img id=\"pumpkin\" src=\"/Users/alyssa-allenabrams/vscode/NewRepository/NewRepository/images/png\">\n",
    "        </canvas>\n",
    "        <div id=\"controls\"> <!--basic radio buttons which can be used to check whether each individual animaiton works -->\n",
    "            <input type=\"radio\" name=\"animation\" id=\"idle\" checked>\n",
    "            <label for=\"idle\">Idle</label><br>\n",
    "            <input type=\"radio\" name=\"animation\" id=\"running\">\n",
    "            <label for=\"running\">running</label><br>\n",
    "            <input type=\"radio\" name=\"animation\" id=\"walking\">\n",
    "            <label for=\"walking\">Walking</label><br>\n",
    "        </div>\n",
    "    </div>\n",
    "</body>\n",
    "</html>\n",
    "\n"
   ]
  },
  {
   "cell_type": "code",
   "execution_count": 4,
   "metadata": {},
   "outputs": [
    {
     "data": {
      "application/javascript": "// Your JavaScript code goes here\nwindow.addEventListener('load', function () {\n    const canvas = document.getElementById('spriteContainer');\n    const ctx = canvas.getContext('2d');\n    // ... (rest of your JavaScript code)\n});\n",
      "text/plain": [
       "<IPython.core.display.Javascript object>"
      ]
     },
     "metadata": {},
     "output_type": "display_data"
    }
   ],
   "source": [
    "%%js\n",
    "// Your JavaScript code goes here\n",
    "window.addEventListener('load', function () {\n",
    "    const canvas = document.getElementById('spriteContainer');\n",
    "    const ctx = canvas.getContext('2d');\n",
    "    // ... (rest of your JavaScript code)\n",
    "});"
   ]
  },
  {
   "cell_type": "code",
   "execution_count": 2,
   "metadata": {
    "vscode": {
     "languageId": "javascript"
    }
   },
   "outputs": [
    {
     "ename": "SyntaxError",
     "evalue": "invalid syntax (3357837833.py, line 2)",
     "output_type": "error",
     "traceback": [
      "\u001b[0;36m  Cell \u001b[0;32mIn[2], line 2\u001b[0;36m\u001b[0m\n\u001b[0;31m    // Create a new webview\u001b[0m\n\u001b[0m    ^\u001b[0m\n\u001b[0;31mSyntaxError\u001b[0m\u001b[0;31m:\u001b[0m invalid syntax\n"
     ]
    }
   ],
   "source": [
    "vscode.commands.registerCommand('extension.showAnimation', () == {\n",
    "    // Create a new webview\n",
    "    const panel = vscode.window.createWebviewPanel(\n",
    "        'animationPanel',\n",
    "        'My Animation',\n",
    "        vscode.ViewColumn.One,\n",
    "        {}\n",
    "    );\n",
    "\n",
    "    // Load your HTML file or content into the webview\n",
    "    const htmlContent = '<html><body><h1>My Animation Goes Here</h1></body></html>';\n",
    "    panel.webview.html = htmlContent;\n",
    "});\n"
   ]
  }
 ],
 "metadata": {
  "kernelspec": {
   "display_name": "Python 3",
   "language": "python",
   "name": "python3"
  },
  "language_info": {
   "codemirror_mode": {
    "name": "ipython",
    "version": 3
   },
   "file_extension": ".py",
   "mimetype": "text/x-python",
   "name": "python",
   "nbconvert_exporter": "python",
   "pygments_lexer": "ipython3",
   "version": "3.11.4"
  },
  "orig_nbformat": 4
 },
 "nbformat": 4,
 "nbformat_minor": 2
}
