{
 "cells": [
  {
   "cell_type": "markdown",
   "metadata": {},
   "source": [
    "---\n",
    "toc: false\n",
    "layout: post \n",
    "title: Tic-Tac-Toe\n",
    "courses: { compsci: {week: 2} }\n",
    "type: hacks\n",
    "--- "
   ]
  },
  {
   "cell_type": "code",
   "execution_count": 7,
   "metadata": {
    "vscode": {
     "languageId": "html"
    }
   },
   "outputs": [
    {
     "data": {
      "text/html": [
       "<html>\n",
       "\n",
       "<head>\n",
       "    <meta name=\"viewport\" content=\"width=device-width, initial-scale=1.0\">\n",
       "    <!-- CSS file Included -->\n",
       "    <link rel=\"stylesheet\" type=\"text/css\" href=\"tic.css\">\n",
       "    <!-- JavaScript file included -->\n",
       "    <script src=\"tic.js\"></script>\n",
       "</head>\n",
       "\n",
       "<body>\n",
       "    <div id=\"main\">\n",
       "        <h1>TIC TAC TOE</h1>\n",
       "        <p id=\"ins\">\n",
       "            Game starts by simply tapping on a box. <br> <br> First Player starts as <b>Player X</b> and the Second Player as <b>Player 0</b>\n",
       "        </p>\n",
       "        <br><br>\n",
       "        <div class=\"ui\">\n",
       "            <div class=\"row\">\n",
       "                <input type=\"text\" id=\"b1\" class=\"cell\" onclick=\"myfunc_3(); myfunc();\" readonly>\n",
       "                <input type=\"text\" id=\"b2\" class=\"cell\" onclick=\"myfunc_4(); myfunc();\" readonly>\n",
       "                <input type=\"text\" id=\"b3\" class=\"cell\" onclick=\"myfunc_5(); myfunc();\" readonly>\n",
       "            </div>\n",
       "            <div class=\"row\">\n",
       "                <input type=\"text\" id=\"b4\" class=\"cell\" onclick=\"myfunc_6(); myfunc();\" readonly>\n",
       "                <input type=\"text\" id=\"b5\" class=\"cell\" onclick=\"myfunc_7(); myfunc();\" readonly>\n",
       "                <input type=\"text\" id=\"b6\" class=\"cell\" onclick=\"myfunc_8(); myfunc();\" readonly>\n",
       "            </div>\n",
       "            <div class=\"row\">\n",
       "                <input type=\"text\" id=\"b7\" class=\"cell\" onclick=\"myfunc_9(); myfunc();\" readonly>\n",
       "                <input type=\"text\" id=\"b8\" class=\"cell\" onclick=\"myfunc_10(); myfunc();\" readonly>\n",
       "                <input type=\"text\" id=\"b9\" class=\"cell\" onclick=\"myfunc_11(); myfunc();\" readonly>\n",
       "            </div>\n",
       "        </div>\n",
       "        <br><br><br>\n",
       "        <button id=\"but\" onclick=\"myfunc_2()\">RESET</button>\n",
       "        <br><br>\n",
       "        <p id=\"print\"></p>\n",
       "    </div>\n",
       "</body>\n",
       "\n",
       "</html>\n"
      ],
      "text/plain": [
       "<IPython.core.display.HTML object>"
      ]
     },
     "metadata": {},
     "output_type": "display_data"
    }
   ],
   "source": [
    "%%html\n",
    "<html>\n",
    "\n",
    "<head>\n",
    "    <meta name=\"viewport\" content=\"width=device-width, initial-scale=1.0\">\n",
    "    <!-- CSS file Included -->\n",
    "    <link rel=\"stylesheet\" type=\"text/css\" href=\"tic.css\">\n",
    "    <!-- JavaScript file included -->\n",
    "    <script src=\"tic.js\"></script>\n",
    "</head>\n",
    "\n",
    "<body>\n",
    "    <div id=\"main\">\n",
    "        <h1>TIC TAC TOE</h1>\n",
    "        <p id=\"ins\">\n",
    "            Game starts by simply tapping on a box. <br> <br> First Player starts as <b>Player X</b> and the Second Player as <b>Player 0</b>\n",
    "        </p>\n",
    "        <br><br>\n",
    "        <div class=\"ui\">\n",
    "            <div class=\"row\">\n",
    "                <input type=\"text\" id=\"b1\" class=\"cell\" onclick=\"myfunc_3(); myfunc();\" readonly>\n",
    "                <input type=\"text\" id=\"b2\" class=\"cell\" onclick=\"myfunc_4(); myfunc();\" readonly>\n",
    "                <input type=\"text\" id=\"b3\" class=\"cell\" onclick=\"myfunc_5(); myfunc();\" readonly>\n",
    "            </div>\n",
    "            <div class=\"row\">\n",
    "                <input type=\"text\" id=\"b4\" class=\"cell\" onclick=\"myfunc_6(); myfunc();\" readonly>\n",
    "                <input type=\"text\" id=\"b5\" class=\"cell\" onclick=\"myfunc_7(); myfunc();\" readonly>\n",
    "                <input type=\"text\" id=\"b6\" class=\"cell\" onclick=\"myfunc_8(); myfunc();\" readonly>\n",
    "            </div>\n",
    "            <div class=\"row\">\n",
    "                <input type=\"text\" id=\"b7\" class=\"cell\" onclick=\"myfunc_9(); myfunc();\" readonly>\n",
    "                <input type=\"text\" id=\"b8\" class=\"cell\" onclick=\"myfunc_10(); myfunc();\" readonly>\n",
    "                <input type=\"text\" id=\"b9\" class=\"cell\" onclick=\"myfunc_11(); myfunc();\" readonly>\n",
    "            </div>\n",
    "        </div>\n",
    "        <br><br><br>\n",
    "        <button id=\"but\" onclick=\"myfunc_2()\">RESET</button>\n",
    "        <br><br>\n",
    "        <p id=\"print\"></p>\n",
    "    </div>\n",
    "</body>\n",
    "\n",
    "</html>\n"
   ]
  }
 ],
 "metadata": {
  "kernelspec": {
   "display_name": "Python 3",
   "language": "python",
   "name": "python3"
  },
  "language_info": {
   "codemirror_mode": {
    "name": "ipython",
    "version": 3
   },
   "file_extension": ".py",
   "mimetype": "text/x-python",
   "name": "python",
   "nbconvert_exporter": "python",
   "pygments_lexer": "ipython3",
   "version": "3.11.4"
  }
 },
 "nbformat": 4,
 "nbformat_minor": 2
}
